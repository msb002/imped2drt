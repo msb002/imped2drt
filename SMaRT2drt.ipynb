{
 "cells": [
  {
   "cell_type": "code",
   "execution_count": 2,
   "metadata": {},
   "outputs": [],
   "source": [
    "import numpy as np\n",
    "import pandas as pd\n",
    "\n",
    "import glob\n",
    "import re\n",
    "\n",
    "import matplotlib as mpl\n",
    "import matplotlib.pyplot as plt\n"
   ]
  },
  {
   "cell_type": "code",
   "execution_count": 1,
   "metadata": {},
   "outputs": [],
   "source": [
    "base = '/Volumes/C/Users/michaelbowen/Impedence/CeO2/'\n"
   ]
  },
  {
   "cell_type": "code",
   "execution_count": 3,
   "metadata": {},
   "outputs": [],
   "source": [
    "h = 'AC_Bar_2'\n",
    "Xg = 'CeO2'\n",
    "\n",
    "paths = []\n",
    "file = h+'/'+Xg+'_*C_*meas*.csv'# for t in range(T-50,T+50)]\n",
    "#for file in files:\n",
    "paths+=glob.glob(base+file)\n",
    "\n",
    "dats = {}\n",
    "for path in paths:\n",
    "    dat = pd.read_csv(path,header=2,usecols=[4,10,11,12,13])\n",
    "    dat = dat.set_index('Frequency (Hz)')\n",
    "    if 'Impedance Magnitude (Ohms)' in dat.columns:\n",
    "        dat['Impedance Real (Ohms)'] = dat['Impedance Magnitude (Ohms)']*np.cos(dat['Impedance Phase Degrees (\\')']*np.pi/180)\n",
    "        dat['Impedance Imaginary (Ohms)'] = dat['Impedance Magnitude (Ohms)']*np.sin(dat['Impedance Phase Degrees (\\')']*np.pi/180)\n",
    "    dat['T'] = int(re.search('\\d\\d*C', path).group()[:-1])\n",
    "    dats[dat['T'].iloc[0]] = dat\n",
    "    np.savetxt(path[:-21]+'_drt.csv',np.array([dat.index.values,dat['Impedance Real (Ohms)'].values,dat['Impedance Imaginary (Ohms)'].values]).transpose(), delimiter=', ')\n",
    "    \n",
    "        "
   ]
  },
  {
   "cell_type": "code",
   "execution_count": 4,
   "metadata": {},
   "outputs": [
    {
     "data": {
      "text/plain": [
       "['/Volumes/C/Users/michaelbowen/Impedence/CeO2/AC_Bar_2/CeO2_1001C_02-22-2020_meas0.csv',\n",
       " '/Volumes/C/Users/michaelbowen/Impedence/CeO2/AC_Bar_2/CeO2_23C_02-22-2020_meas0.csv',\n",
       " '/Volumes/C/Users/michaelbowen/Impedence/CeO2/AC_Bar_2/CeO2_300C_02-22-2020_meas2.csv',\n",
       " '/Volumes/C/Users/michaelbowen/Impedence/CeO2/AC_Bar_2/CeO2_300C_02-22-2020_meas0.csv',\n",
       " '/Volumes/C/Users/michaelbowen/Impedence/CeO2/AC_Bar_2/CeO2_300C_02-22-2020_meas1.csv',\n",
       " '/Volumes/C/Users/michaelbowen/Impedence/CeO2/AC_Bar_2/CeO2_293C_02-22-2020_meas0.csv',\n",
       " '/Volumes/C/Users/michaelbowen/Impedence/CeO2/AC_Bar_2/CeO2_603C_02-22-2020_meas0.csv',\n",
       " '/Volumes/C/Users/michaelbowen/Impedence/CeO2/AC_Bar_2/CeO2_503C_02-22-2020_meas1.csv',\n",
       " '/Volumes/C/Users/michaelbowen/Impedence/CeO2/AC_Bar_2/CeO2_400C_02-22-2020_meas1.csv',\n",
       " '/Volumes/C/Users/michaelbowen/Impedence/CeO2/AC_Bar_2/CeO2_400C_02-22-2020_meas0.csv',\n",
       " '/Volumes/C/Users/michaelbowen/Impedence/CeO2/AC_Bar_2/CeO2_503C_02-22-2020_meas0.csv',\n",
       " '/Volumes/C/Users/michaelbowen/Impedence/CeO2/AC_Bar_2/CeO2_801C_02-22-2020_meas0.csv',\n",
       " '/Volumes/C/Users/michaelbowen/Impedence/CeO2/AC_Bar_2/CeO2_902C_02-22-2020_meas0.csv',\n",
       " '/Volumes/C/Users/michaelbowen/Impedence/CeO2/AC_Bar_2/CeO2_902C_02-22-2020_meas1.csv',\n",
       " '/Volumes/C/Users/michaelbowen/Impedence/CeO2/AC_Bar_2/CeO2_602C_02-22-2020_meas0.csv',\n",
       " '/Volumes/C/Users/michaelbowen/Impedence/CeO2/AC_Bar_2/CeO2_801C_02-22-2020_meas1.csv',\n",
       " '/Volumes/C/Users/michaelbowen/Impedence/CeO2/AC_Bar_2/CeO2_902C_02-22-2020_meas2.csv',\n",
       " '/Volumes/C/Users/michaelbowen/Impedence/CeO2/AC_Bar_2/CeO2_194C_02-22-2020_meas0.csv',\n",
       " '/Volumes/C/Users/michaelbowen/Impedence/CeO2/AC_Bar_2/CeO2_801C_02-22-2020_meas2.csv',\n",
       " '/Volumes/C/Users/michaelbowen/Impedence/CeO2/AC_Bar_2/CeO2_696C_02-22-2020_meas1.csv',\n",
       " '/Volumes/C/Users/michaelbowen/Impedence/CeO2/AC_Bar_2/CeO2_696C_02-22-2020_meas0.csv']"
      ]
     },
     "execution_count": 4,
     "metadata": {},
     "output_type": "execute_result"
    }
   ],
   "source": [
    "paths"
   ]
  },
  {
   "cell_type": "code",
   "execution_count": null,
   "metadata": {},
   "outputs": [],
   "source": []
  }
 ],
 "metadata": {
  "kernelspec": {
   "display_name": "Python 3",
   "language": "python",
   "name": "python3"
  },
  "language_info": {
   "codemirror_mode": {
    "name": "ipython",
    "version": 3
   },
   "file_extension": ".py",
   "mimetype": "text/x-python",
   "name": "python",
   "nbconvert_exporter": "python",
   "pygments_lexer": "ipython3",
   "version": "3.7.4"
  }
 },
 "nbformat": 4,
 "nbformat_minor": 2
}
